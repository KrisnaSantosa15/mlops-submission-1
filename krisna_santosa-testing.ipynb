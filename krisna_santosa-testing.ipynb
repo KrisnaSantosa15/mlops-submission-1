{
 "cells": [
  {
   "cell_type": "code",
   "execution_count": null,
   "metadata": {},
   "outputs": [],
   "source": [
    "import requests\n",
    "import numpy as np\n",
    "import json\n",
    "\n"
   ]
  },
  {
   "cell_type": "code",
   "execution_count": null,
   "metadata": {},
   "outputs": [],
   "source": [
    "def predict_obesity(data):\n",
    "    headers = {\"content-type\": \"application/json\"}\n",
    "    json_data = {\n",
    "        \"instances\": [data]\n",
    "    }\n",
    "    \n",
    "    json_response = requests.post(\n",
    "        \"http://localhost:8501/v1/models/obesity_model:predict\",\n",
    "        data=json.dumps(json_data),\n",
    "        headers=headers)\n",
    "    \n",
    "    predictions = json.loads(json_response.text)\n",
    "    return predictions\n",
    "\n"
   ]
  },
  {
   "cell_type": "code",
   "execution_count": null,
   "metadata": {},
   "outputs": [],
   "source": [
    "# Test usage\n",
    "sample_data = {\n",
    "    \"Age\": 25,\n",
    "    \"Height\": 1.75,\n",
    "    \"Weight\": 80,\n",
    "    \"FCVC\": 2,\n",
    "    \"NCP\": 3,\n",
    "    \"CH2O\": 2.5,\n",
    "    \"FAF\": 1,\n",
    "    \"TUE\": 1,\n",
    "    \"Gender\": \"Male\",\n",
    "    \"family_history_with_overweight\": \"yes\",\n",
    "    \"FAVC\": \"yes\",\n",
    "    \"CAEC\": \"Sometimes\",\n",
    "    \"SMOKE\": \"no\",\n",
    "    \"SCC\": \"no\",\n",
    "    \"CALC\": \"no\",\n",
    "    \"MTRANS\": \"Public_Transportation\"\n",
    "}\n",
    "\n",
    "result = predict_obesity(sample_data)\n",
    "print(f\"Prediction: {result}\")"
   ]
  }
 ],
 "metadata": {
  "language_info": {
   "name": "python"
  }
 },
 "nbformat": 4,
 "nbformat_minor": 2
}
