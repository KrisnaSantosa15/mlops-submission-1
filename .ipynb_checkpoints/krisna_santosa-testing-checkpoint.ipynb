{
 "cells": [
  {
   "cell_type": "markdown",
   "metadata": {},
   "source": [
    "# Test Model Serving Obesity Detection\n",
    "\n",
    "Sebelum melakukan publish model, tentunya kita harus melakukan testing terlebih dahulu, apakah model yang kita buat akurat dan dapat berjalan sebagaimana mestinya atau tidak? \n",
    "\n",
    "Pada tahapan ini, kita akan melakukan percobaan prediksi dengan data yang diinputkan oleh pengguna. Namun, tipe data untuk input tersebut harus sesuai dengan proses training model, maka dari itu setiap fitur akan dipetakan kedalam tipe data yang sama dengan proses training."
   ]
  },
  {
   "cell_type": "code",
   "execution_count": 12,
   "metadata": {},
   "outputs": [],
   "source": [
    "import tensorflow as tf\n",
    "\n",
    "obesity_level = [\"Obesity_Type_I\", \"Obesity_Type_III\", \"Obesity_Type_II\", \"Normal_Weight\", \"Overweight_Level_I\", \"Overweight_Level_II\", \"Insufficient_Weight\"]\n",
    "\n",
    "# Input data\n",
    "data = {\n",
    "    \"Gender\": \"Male\",\n",
    "    \"Age\": 22.0,\n",
    "    \"Height\": 1.78,\n",
    "    \"Weight\": 89.8,\n",
    "    \"family_history\": \"no\",\n",
    "    \"FAVC\": \"no\",\n",
    "    \"FCVC\": 2.0,\n",
    "    \"NCP\": 1.0,\n",
    "    \"CAEC\": \"Sometimes\",\n",
    "    \"SMOKE\": \"no\",\n",
    "    \"CH2O\": 2.0,\n",
    "    \"SCC\": \"no\",\n",
    "    \"FAF\": 0.0,\n",
    "    \"TUE\": 0.0,\n",
    "    \"CALC\": \"Sometimes\",\n",
    "    \"MTRANS\": \"Public_Transportation\"\n",
    "}\n",
    "\n",
    "# Convert data to tf.train.Feature\n",
    "def _bytes_feature(value):\n",
    "    return tf.train.Feature(bytes_list=tf.train.BytesList(value=[value.encode(\"utf-8\")]))\n",
    "\n",
    "def _float_feature(value):\n",
    "    return tf.train.Feature(float_list=tf.train.FloatList(value=[value]))\n",
    "\n",
    "features = {\n",
    "    \"Gender\": _bytes_feature(data[\"Gender\"]),\n",
    "    \"Age\": _float_feature(data[\"Age\"]),\n",
    "    \"Height\": _float_feature(data[\"Height\"]),\n",
    "    \"Weight\": _float_feature(data[\"Weight\"]),\n",
    "    \"family_history\": _bytes_feature(data[\"family_history\"]),\n",
    "    \"FAVC\": _bytes_feature(data[\"FAVC\"]),\n",
    "    \"FCVC\": _float_feature(data[\"FCVC\"]),\n",
    "    \"NCP\": _float_feature(data[\"NCP\"]),\n",
    "    \"CAEC\": _bytes_feature(data[\"CAEC\"]),\n",
    "    \"SMOKE\": _bytes_feature(data[\"SMOKE\"]),\n",
    "    \"CH2O\": _float_feature(data[\"CH2O\"]),\n",
    "    \"SCC\": _bytes_feature(data[\"SCC\"]),\n",
    "    \"FAF\": _float_feature(data[\"FAF\"]),\n",
    "    \"TUE\": _float_feature(data[\"TUE\"]),\n",
    "    \"CALC\": _bytes_feature(data[\"CALC\"]),\n",
    "    \"MTRANS\": _bytes_feature(data[\"MTRANS\"])\n",
    "}\n",
    "\n",
    "example_proto = tf.train.Example(features=tf.train.Features(feature=features))\n",
    "serialized_example = example_proto.SerializeToString()"
   ]
  },
  {
   "cell_type": "markdown",
   "metadata": {},
   "source": [
    "Setelah membuat input yang sudah dilakukan serialized agar sesuai dengan model, saatnya kita mencoba untuk memprediksi data tersebut dengan melakukan hit API `http://localhost:8501/v1/models/obesity_model:predict`. Pada tahap ini model akan mengembalikan 7 nilai dengan tingkat confidence masing-masing untuk setiap label. Nilai confidence paling tinggi menunjukkan bahwa data tersebut termasuk kedalam label yang dipetakan."
   ]
  },
  {
   "cell_type": "code",
   "execution_count": 13,
   "metadata": {},
   "outputs": [
    {
     "name": "stdout",
     "output_type": "stream",
     "text": [
      "Predicted Label: Overweight_Level_II\n",
      "Probabilities: [0.000484682299, 3.83815268e-06, 0.000156140188, 0.0431102701, 0.00287451246, 0.953245938, 0.000124618222]\n"
     ]
    }
   ],
   "source": [
    "import requests\n",
    "import base64\n",
    "import numpy as np\n",
    "\n",
    "# Call For REST API\n",
    "payload = {\n",
    "    \"inputs\": {\n",
    "        \"examples\": [\n",
    "            {\"b64\": base64.b64encode(serialized_example).decode(\"utf-8\")}\n",
    "        ]\n",
    "    }\n",
    "}\n",
    "\n",
    "response = requests.post(\n",
    "    \"http://localhost:8501/v1/models/obesity_model:predict\",\n",
    "    json=payload\n",
    ")\n",
    "\n",
    "# Get prediction result\n",
    "predictions = response.json().get(\"outputs\", [[]])[0]\n",
    "\n",
    "predicted_index = np.argmax(predictions)\n",
    "predicted_label = obesity_level[predicted_index]\n",
    "\n",
    "print(f\"Predicted Label: {predicted_label}\")\n",
    "print(f\"Probabilities: {predictions}\")"
   ]
  },
  {
   "cell_type": "markdown",
   "metadata": {},
   "source": [
    "Berdasarkan hasil yang telah diberikan oleh model, prediksi data tersebut menunjukkan level obesitas Tingkat 2."
   ]
  }
 ],
 "metadata": {
  "kernelspec": {
   "display_name": "Python 3 (ipykernel)",
   "language": "python",
   "name": "python3"
  },
  "language_info": {
   "codemirror_mode": {
    "name": "ipython",
    "version": 3
   },
   "file_extension": ".py",
   "mimetype": "text/x-python",
   "name": "python",
   "nbconvert_exporter": "python",
   "pygments_lexer": "ipython3",
   "version": "3.9.15"
  }
 },
 "nbformat": 4,
 "nbformat_minor": 2
}
